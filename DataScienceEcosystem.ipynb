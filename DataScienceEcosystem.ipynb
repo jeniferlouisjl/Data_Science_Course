{
 "cells": [
  {
   "cell_type": "markdown",
   "id": "3a6cff30-5117-4e6a-991a-767a10eb8201",
   "metadata": {},
   "source": [
    "# Data Science Tools and Ecosystem "
   ]
  },
  {
   "cell_type": "markdown",
   "id": "7f57ee32-6698-42a4-8524-2876725fedef",
   "metadata": {},
   "source": [
    "In this notebook, Data Science Tools and Ecosystem are summarized"
   ]
  },
  {
   "cell_type": "markdown",
   "id": "b8ecba33-8da8-4120-b242-1ceba362df6e",
   "metadata": {},
   "source": [
    "<b>Objectives:</b>"
   ]
  },
  {
   "cell_type": "markdown",
   "id": "e6e92093-f0c5-491e-96cd-f1717d9c574d",
   "metadata": {},
   "source": [
    "* Popular Data Science Languages"
   ]
  },
  {
   "cell_type": "markdown",
   "id": "a7f07e12-a240-455b-96f8-9c42c953ad63",
   "metadata": {},
   "source": [
    "* Libraries used by data scientists"
   ]
  },
  {
   "cell_type": "markdown",
   "id": "a0a77358-dc67-4de6-be05-6b2a448b6e23",
   "metadata": {},
   "source": [
    "* Evaluating Arithmetic Expressions"
   ]
  },
  {
   "cell_type": "markdown",
   "id": "d20005ba-0714-428c-a28c-c4a6ae42092f",
   "metadata": {},
   "source": [
    "* Inserting tables"
   ]
  },
  {
   "cell_type": "markdown",
   "id": "c4b91bed-c98a-4b7a-b56d-e5241e065799",
   "metadata": {},
   "source": [
    "Some of the popular languages that Data Scientists use are:"
   ]
  },
  {
   "cell_type": "markdown",
   "id": "c03987af-1559-46b2-b19b-61ba47377d23",
   "metadata": {},
   "source": [
    "1. Python\n",
    "1. R\n",
    "1. Java"
   ]
  },
  {
   "cell_type": "markdown",
   "id": "89794853-ffc9-4b83-a7ef-2087036dc315",
   "metadata": {},
   "source": [
    "Some of the commonly used libraries used by Data Scientists include:"
   ]
  },
  {
   "cell_type": "markdown",
   "id": "b5e5dd42-1085-4d55-95af-f3b7b316bf24",
   "metadata": {},
   "source": [
    "1. Pandas\n",
    "1. Matplotlib\n",
    "1. Numpy\n",
    "1. plotly"
   ]
  },
  {
   "cell_type": "markdown",
   "id": "647a607b-a5cf-4b38-9f5d-db39655d866a",
   "metadata": {},
   "source": [
    "|Data Science Tools |\n",
    "|-------------------|\n",
    "|Kubernetes|\n",
    "|Github|\n",
    "|Pixiedust|"
   ]
  },
  {
   "cell_type": "markdown",
   "id": "fd67f553-a60c-4f28-96e0-c0709d173219",
   "metadata": {},
   "source": [
    "### Below are a few examples of evaluating arithmetic expressions in Python."
   ]
  },
  {
   "cell_type": "code",
   "execution_count": 4,
   "id": "60c72b7f-6efc-44bd-b246-b9fbc2835e16",
   "metadata": {},
   "outputs": [],
   "source": [
    "#This a simple arithmetic expression to mutiply then add integers."
   ]
  },
  {
   "cell_type": "code",
   "execution_count": 3,
   "id": "9bd8d9f6-aa9d-4a0d-b198-83acdfa2711a",
   "metadata": {},
   "outputs": [
    {
     "data": {
      "text/plain": [
       "17"
      ]
     },
     "execution_count": 3,
     "metadata": {},
     "output_type": "execute_result"
    }
   ],
   "source": [
    "(3*4)+5"
   ]
  },
  {
   "cell_type": "code",
   "execution_count": 7,
   "id": "76d7d075-0628-42a3-b888-f094b47f9422",
   "metadata": {},
   "outputs": [],
   "source": [
    "#This will convert 200 minutes to hours by dividing by 60."
   ]
  },
  {
   "cell_type": "code",
   "execution_count": 6,
   "id": "3f0597c0-6f52-4b63-b56a-c54709cc7303",
   "metadata": {},
   "outputs": [
    {
     "data": {
      "text/plain": [
       "3.3333333333333335"
      ]
     },
     "execution_count": 6,
     "metadata": {},
     "output_type": "execute_result"
    }
   ],
   "source": [
    "200/60"
   ]
  },
  {
   "cell_type": "markdown",
   "id": "95f0639f-dabc-46cd-ad85-176024874723",
   "metadata": {},
   "source": [
    "## Author "
   ]
  },
  {
   "cell_type": "markdown",
   "id": "01978509-8b8e-4d8b-bb2e-92abcb518506",
   "metadata": {},
   "source": [
    "Jennifer Louis"
   ]
  },
  {
   "cell_type": "code",
   "execution_count": null,
   "id": "47cceadf-30a3-4fc1-a9e1-916c7f6214a6",
   "metadata": {},
   "outputs": [],
   "source": []
  }
 ],
 "metadata": {
  "kernelspec": {
   "display_name": "Python 3 (ipykernel)",
   "language": "python",
   "name": "python3"
  },
  "language_info": {
   "codemirror_mode": {
    "name": "ipython",
    "version": 3
   },
   "file_extension": ".py",
   "mimetype": "text/x-python",
   "name": "python",
   "nbconvert_exporter": "python",
   "pygments_lexer": "ipython3",
   "version": "3.11.9"
  }
 },
 "nbformat": 4,
 "nbformat_minor": 5
}
